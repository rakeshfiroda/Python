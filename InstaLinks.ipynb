{
 "cells": [
  {
   "cell_type": "code",
   "execution_count": 11,
   "metadata": {},
   "outputs": [],
   "source": [
    "from selenium import webdriver\n",
    "from selenium.webdriver.common.keys import Keys\n",
    "from time import sleep\n",
    "\n",
    "browser = webdriver.Chrome(executable_path = r\"C:\\Users\\#\\Downloads\\chromedriver_win32\\chromedriver.exe\")\n",
    "try:\n",
    "    user = input(\"Enter Your Username: \")\n",
    "    browser.get(\"https://www.instagram.com/\"+user)\n",
    "    links = browser.find_elements_by_xpath(\"//*[@href]\")\n",
    "    if browser.find_elements_by_class_name(\"rkEop\"):\n",
    "        print(\"User Account is Private!...Try another account\")\n",
    "    else:\n",
    "        pics = [i.get_attribute(\"href\") for i in links]\n",
    "        pic = []\n",
    "        for i in pics:\n",
    "            if \"/p/\" in str(i):\n",
    "                pic.append(i)\n",
    "        if pic==[]:\n",
    "            print(\"Account has no photos\")\n",
    "        else:\n",
    "            print(pic)\n",
    "except:\n",
    "    print(\"Automated Chrome has been closed.!\")\n",
    "\n",
    "for i in pic:\n",
    "    print(i)"
   ]
  },
  {
   "cell_type": "code",
   "execution_count": null,
   "metadata": {},
   "outputs": [],
   "source": []
  },
  {
   "cell_type": "code",
   "execution_count": null,
   "metadata": {},
   "outputs": [],
   "source": []
  },
  {
   "cell_type": "code",
   "execution_count": null,
   "metadata": {},
   "outputs": [],
   "source": []
  },
  {
   "cell_type": "code",
   "execution_count": null,
   "metadata": {},
   "outputs": [],
   "source": []
  }
 ],
 "metadata": {
  "kernelspec": {
   "display_name": "Python 3",
   "language": "python",
   "name": "python3"
  },
  "language_info": {
   "codemirror_mode": {
    "name": "ipython",
    "version": 3
   },
   "file_extension": ".py",
   "mimetype": "text/x-python",
   "name": "python",
   "nbconvert_exporter": "python",
   "pygments_lexer": "ipython3",
   "version": "3.6.5"
  }
 },
 "nbformat": 4,
 "nbformat_minor": 2
}













