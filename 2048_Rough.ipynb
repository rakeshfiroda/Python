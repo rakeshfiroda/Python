{
 "cells": [
  {
   "cell_type": "code",
   "execution_count": 2,
   "metadata": {},
   "outputs": [],
   "source": [
    "import numpy as np\n",
    "import random as rd"
   ]
  },
  {
   "cell_type": "code",
   "execution_count": 3,
   "metadata": {},
   "outputs": [],
   "source": [
    "output = np.zeros([4,4])\n",
    "position = np.zeros([4,4])"
   ]
  },
  {
   "cell_type": "code",
   "execution_count": 4,
   "metadata": {},
   "outputs": [],
   "source": [
    "elements = [2,4,8,16]"
   ]
  },
  {
   "cell_type": "code",
   "execution_count": 5,
   "metadata": {},
   "outputs": [],
   "source": [
    "p1 = rd.randint(0,3)\n",
    "p2 = rd.randint(0,3)\n",
    "output[p1][p2] = elements[rd.randint(0,3)]\n",
    "position[p1][p2] = 1"
   ]
  },
  {
   "cell_type": "code",
   "execution_count": 6,
   "metadata": {},
   "outputs": [
    {
     "data": {
      "text/plain": [
       "array([[ 0.,  0., 16.,  0.],\n",
       "       [ 0.,  0.,  0.,  0.],\n",
       "       [ 0.,  0.,  0.,  0.],\n",
       "       [ 0.,  0.,  0.,  0.]])"
      ]
     },
     "execution_count": 6,
     "metadata": {},
     "output_type": "execute_result"
    }
   ],
   "source": [
    "output"
   ]
  },
  {
   "cell_type": "code",
   "execution_count": 7,
   "metadata": {},
   "outputs": [
    {
     "data": {
      "text/plain": [
       "array([[0., 0., 1., 0.],\n",
       "       [0., 0., 0., 0.],\n",
       "       [0., 0., 0., 0.],\n",
       "       [0., 0., 0., 0.]])"
      ]
     },
     "execution_count": 7,
     "metadata": {},
     "output_type": "execute_result"
    }
   ],
   "source": [
    "position"
   ]
  },
  {
   "cell_type": "code",
   "execution_count": 8,
   "metadata": {},
   "outputs": [],
   "source": [
    "def add_element():\n",
    "    status = 0\n",
    "    for i in range(0,4):\n",
    "        for j in range(0,4):\n",
    "            if position[i][j] == 0:\n",
    "                status = 1\n",
    "                break\n",
    "    if status == 1:\n",
    "        while status:\n",
    "            x,y = rd.randint(0,3),rd.randint(0,3)\n",
    "            status = position[x][y]\n",
    "        output[x][y] = elements[rd.randint(0,3)]\n",
    "    else:\n",
    "        print(\"Game Over! No space available...\")\n",
    "  "
   ]
  },
  {
   "cell_type": "code",
   "execution_count": 1,
   "metadata": {},
   "outputs": [],
   "source": [
    "def add_element():\n",
    "    status = 1\n",
    "    \n",
    "    while status:\n",
    "        x,y = rd.randint(0,3),rd.randint(0,3)\n",
    "        status = position[x][y]\n",
    "    output[x][y] = elements[rd.randint(0,3)]\n",
    "    position[x][y] = 1\n",
    "    \n",
    "    \n",
    "def operation_a(score):\n",
    "    for i in range(0,4):\n",
    "        for j in range(1,4):\n",
    "            for k in range(j,0,-1):\n",
    "                if position[i][k] == 1:\n",
    "                    if position[i][k-1] == 0:\n",
    "                        output[i][k-1] = output[i][k]\n",
    "                        output[i][k] = 0\n",
    "                        position[i][k-1] = 1\n",
    "                        position[i][k] = 0\n",
    "                    elif output[i][k-1] == output[i][k]:\n",
    "                        output[i][k-1] = output[i][k-1]*2\n",
    "                        output[i][k] = 0\n",
    "                        position[i][k] = 0\n",
    "                        score = score + output[i][k-1]\n",
    "    add_element()\n",
    "    return score\n",
    "\n",
    "def operation_d(score):\n",
    "    for i in range(0,4):\n",
    "        for j in range(2,-1,-1):\n",
    "            for k in range(j,3):\n",
    "                if position[i][k] == 1:\n",
    "                    if position[i][k+1] == 0:\n",
    "                        output[i][k+1] = output[i][k]\n",
    "                        output[i][k] = 0\n",
    "                        position[i][k+1] = 1\n",
    "                        position[i][k] = 0\n",
    "                    elif output[i][k+1] == output[i][k]:\n",
    "                        output[i][k+1] = output[i][k+1]*2\n",
    "                        output[i][k] = 0\n",
    "                        position[i][k] = 0\n",
    "                        score = score + output[i][k+1]\n",
    "    add_element()\n",
    "    return score\n",
    "\n",
    "def operation_w(score):\n",
    "    for i in range(0,4):\n",
    "        for j in range(1,4):\n",
    "            for k in range(j,0,-1):\n",
    "                if position[k][i] == 1:\n",
    "                    if position[k-1][i] == 0:\n",
    "                        output[k-1][i] = output[k][i]\n",
    "                        output[k][i] = 0\n",
    "                        position[k-1][i] = 1\n",
    "                        position[k][i] = 0\n",
    "                    elif output[k-1][i] == output[k][i]:\n",
    "                        output[k-1][i] = output[k-1][i]*2\n",
    "                        output[k][i] = 0\n",
    "                        position[k][i] = 0\n",
    "                        score = score + output[k-1][i]\n",
    "    add_element()\n",
    "    return score\n",
    "\n",
    "def operation_s(score):\n",
    "    for i in range(0,4):\n",
    "        for j in range(2,-1,-1):\n",
    "            for k in range(j,3):\n",
    "                if position[k][i] == 1:\n",
    "                    if position[k+1][i] == 0:\n",
    "                        output[k+1][i] = output[k][i]\n",
    "                        output[k][i] = 0\n",
    "                        position[k+1][i] = 1\n",
    "                        position[k][i] = 0\n",
    "                    elif output[k+1][i] == output[k][i]:\n",
    "                        output[k+1][i] = output[k+1][i]*2\n",
    "                        output[k][i] = 0\n",
    "                        position[k][i] = 0\n",
    "                        score = score + output[k+1][i]\n",
    "    add_element()\n",
    "    return score\n",
    "\n"
   ]
  },
  {
   "cell_type": "code",
   "execution_count": 9,
   "metadata": {},
   "outputs": [
    {
     "name": "stdout",
     "output_type": "stream",
     "text": [
      "*DOCUMENTATION*\n",
      "Use W,A,S,D to Move and E to exit()\n",
      "Your Score: 0\n",
      "[[ 0.  0. 16.  0.]\n",
      " [ 0.  0.  0.  8.]\n",
      " [ 0.  0.  0.  0.]\n",
      " [ 0.  0.  0.  0.]]\n",
      "Enter Operation: a\n",
      "Your Score: 0\n",
      "[[16.  0.  0.  0.]\n",
      " [ 0.  0.  0.  8.]\n",
      " [ 0.  0.  0.  0.]\n",
      " [ 0.  0.  0.  2.]]\n",
      "Enter Operation: a\n",
      "Your Score: 0\n",
      "[[16.  0.  0.  0.]\n",
      " [ 0.  0.  0.  8.]\n",
      " [ 0.  0.  2.  0.]\n",
      " [ 0.  0.  0.  2.]]\n",
      "Enter Operation: a\n",
      "Your Score: 0\n",
      "[[16.  0.  0.  0.]\n",
      " [ 0.  0.  0.  8.]\n",
      " [ 0.  4.  2.  0.]\n",
      " [ 0.  0.  0.  2.]]\n",
      "Enter Operation: w\n",
      "Your Score: 0\n",
      "[[16.  0.  0.  0.]\n",
      " [ 0.  0.  0.  8.]\n",
      " [ 0.  4. 16.  0.]\n",
      " [ 0.  0.  0.  2.]]\n",
      "Enter Operation: d\n",
      "Your Score: 0\n",
      "[[ 0.  0.  0. 16.]\n",
      " [ 0.  0.  0.  4.]\n",
      " [ 0.  4. 16.  0.]\n",
      " [ 0.  0.  0.  2.]]\n",
      "Enter Operation: d\n",
      "Your Score: 0\n",
      "[[ 0.  8.  0. 16.]\n",
      " [ 0.  0.  0.  4.]\n",
      " [ 0.  4. 16.  0.]\n",
      " [ 0.  0.  0.  2.]]\n",
      "Enter Operation: e\n",
      "ThankYou! Its yours, You can try again!\n"
     ]
    }
   ],
   "source": [
    "print(\"*DOCUMENTATION*\")\n",
    "print(\"Use W,A,S,D to Move and E to exit()\")\n",
    "add_element()\n",
    "score = 0\n",
    "user = 1\n",
    "while user!= 'E':\n",
    "    print(\"Your Score:\",int(score))\n",
    "    print(output)\n",
    "    user = input(\"Enter Operation: \").upper()\n",
    "    if user == 'W':\n",
    "        score = operation_w(score)\n",
    "    elif user == 'A':\n",
    "        score = operation_a(score)\n",
    "    elif user == 'S':\n",
    "        score = operation_s(score)\n",
    "    elif user == 'D':\n",
    "        score = operation_d(score)\n",
    "        \n",
    "    if score >= 2048:\n",
    "        break\n",
    "        \n",
    "        \n",
    "if score>= 2048:\n",
    "    print(\"Congrats! You finished it.\")\n",
    "else:\n",
    "    print(\"ThankYou! Its yours, You can try again!\")\n",
    "    "
   ]
  },
  {
   "cell_type": "code",
   "execution_count": 26,
   "metadata": {},
   "outputs": [],
   "source": [
    "def operation_w(score):\n",
    "    for i in range(0,3):\n",
    "        for j in range(2,5):\n",
    "            for k in range(1,j):\n",
    "                if position[i][k-1] == 0:\n",
    "                    output[i][k-1] = output[i][k]\n",
    "                    position[i][k-1] = 1\n",
    "                    position[i][k] = 0\n",
    "                elif output[i][k-1] == output[i][k]:\n",
    "                    output[i][k-1] = output[i][k-1]*2\n",
    "                    position[i][k] = 0\n",
    "                    score = score + output[i][k-1]\n",
    "    return score\n",
    "                    "
   ]
  },
  {
   "cell_type": "code",
   "execution_count": null,
   "metadata": {},
   "outputs": [],
   "source": []
  },
  {
   "cell_type": "code",
   "execution_count": 1,
   "metadata": {},
   "outputs": [
    {
     "name": "stdout",
     "output_type": "stream",
     "text": [
      "E\n"
     ]
    },
    {
     "data": {
      "text/plain": [
       "0"
      ]
     },
     "execution_count": 1,
     "metadata": {},
     "output_type": "execute_result"
    }
   ],
   "source": [
    "import msvcrt \n",
    "\n",
    "def kbfunc():\n",
    "    \n",
    "    x = msvcrt.kbhit()\n",
    "    if x: \n",
    "        ret = ord(msvcrt.getch()) \n",
    "    else:\n",
    "        print(\"E\")\n",
    "        ret = 0 \n",
    "    return ret\n",
    "kbfunc()"
   ]
  },
  {
   "cell_type": "code",
   "execution_count": 2,
   "metadata": {},
   "outputs": [
    {
     "name": "stdout",
     "output_type": "stream",
     "text": [
      "Key.enter release\n",
      "Key.shift_r release\n",
      "Key.up pressed\n",
      "Key.up release\n",
      "Key.up pressed\n",
      "Key.up release\n",
      "Key.right pressed\n",
      "Key.right release\n",
      "Key.down pressed\n",
      "Key.down release\n",
      "Key.left pressed\n",
      "Key.left release\n",
      "Key.esc pressed\n",
      "Key.esc release\n"
     ]
    }
   ],
   "source": [
    "from pynput.keyboard import Key, Listener\n",
    "\n",
    "def on_press(key):\n",
    "    print('{0} pressed'.format(\n",
    "        key))\n",
    "\n",
    "def on_release(key):\n",
    "    print('{0} release'.format(\n",
    "        key))\n",
    "    if key == Key.esc:\n",
    "        # Stop listener\n",
    "        return False\n",
    "\n",
    "# Collect events until released\n",
    "with Listener(\n",
    "        on_press=on_press,\n",
    "        on_release=on_release) as listener:\n",
    "    listener.join()"
   ]
  },
  {
   "cell_type": "code",
   "execution_count": 3,
   "metadata": {},
   "outputs": [
    {
     "ename": "NameError",
     "evalue": "name 'listner' is not defined",
     "output_type": "error",
     "traceback": [
      "\u001b[1;31m---------------------------------------------------------------------------\u001b[0m",
      "\u001b[1;31mNameError\u001b[0m                                 Traceback (most recent call last)",
      "\u001b[1;32m<ipython-input-3-e13b0d4290f3>\u001b[0m in \u001b[0;36m<module>\u001b[1;34m()\u001b[0m\n\u001b[0;32m     17\u001b[0m \u001b[1;33m\u001b[0m\u001b[0m\n\u001b[0;32m     18\u001b[0m \u001b[1;32mwith\u001b[0m \u001b[0mListener\u001b[0m\u001b[1;33m(\u001b[0m\u001b[0mon_press\u001b[0m\u001b[1;33m=\u001b[0m\u001b[0mon_press\u001b[0m\u001b[1;33m)\u001b[0m \u001b[1;32mas\u001b[0m \u001b[0mlistener\u001b[0m\u001b[1;33m:\u001b[0m\u001b[1;33m\u001b[0m\u001b[0m\n\u001b[1;32m---> 19\u001b[1;33m     \u001b[0ma\u001b[0m \u001b[1;33m=\u001b[0m \u001b[0mlistner\u001b[0m\u001b[1;33m.\u001b[0m\u001b[0mrunning\u001b[0m\u001b[1;33m\u001b[0m\u001b[0m\n\u001b[0m\u001b[0;32m     20\u001b[0m     \u001b[0mprint\u001b[0m\u001b[1;33m(\u001b[0m\u001b[0ma\u001b[0m\u001b[1;33m)\u001b[0m\u001b[1;33m\u001b[0m\u001b[0m\n",
      "\u001b[1;31mNameError\u001b[0m: name 'listner' is not defined"
     ]
    }
   ],
   "source": [
    "from pynput.keyboard import Key, Listener\n",
    "\n",
    "def on_press(key):\n",
    "    if key == key.up:\n",
    "        return 'W'\n",
    "    elif key == key.left:\n",
    "        return 'A'\n",
    "    elif key == key.down:\n",
    "        return 'S'\n",
    "    elif key == key.right:\n",
    "        return 'D'\n",
    "    elif key == key.esc or key == 'E':\n",
    "        print(\"Exiting..\")\n",
    "        return True\n",
    "    else:\n",
    "        print(\"Wrong input!\")\n",
    "\n",
    "with Listener(on_press=on_press) as listener:\n",
    "    a = listner.running\n",
    "    print(a)"
   ]
  },
  {
   "cell_type": "code",
   "execution_count": 1,
   "metadata": {},
   "outputs": [
    {
     "ename": "NameError",
     "evalue": "name 'Listener' is not defined",
     "output_type": "error",
     "traceback": [
      "\u001b[1;31m---------------------------------------------------------------------------\u001b[0m",
      "\u001b[1;31mNameError\u001b[0m                                 Traceback (most recent call last)",
      "\u001b[1;32m<ipython-input-1-fc41731330e8>\u001b[0m in \u001b[0;36m<module>\u001b[1;34m()\u001b[0m\n\u001b[0;32m      1\u001b[0m \u001b[1;33m\u001b[0m\u001b[0m\n\u001b[1;32m----> 2\u001b[1;33m \u001b[0mlistner\u001b[0m \u001b[1;33m=\u001b[0m \u001b[0mListener\u001b[0m\u001b[1;33m(\u001b[0m\u001b[0mon_press\u001b[0m\u001b[1;33m=\u001b[0m\u001b[0mon_press\u001b[0m\u001b[1;33m)\u001b[0m\u001b[1;33m\u001b[0m\u001b[0m\n\u001b[0m\u001b[0;32m      3\u001b[0m \u001b[0mlistner\u001b[0m\u001b[1;33m.\u001b[0m\u001b[0mrunning\u001b[0m\u001b[1;33m\u001b[0m\u001b[0m\n",
      "\u001b[1;31mNameError\u001b[0m: name 'Listener' is not defined"
     ]
    }
   ],
   "source": [
    "\n",
    "listner = Listener(on_press=on_press)\n",
    "listner.running"
   ]
  },
  {
   "cell_type": "code",
   "execution_count": null,
   "metadata": {},
   "outputs": [],
   "source": []
  },
  {
   "cell_type": "code",
   "execution_count": 4,
   "metadata": {},
   "outputs": [
    {
     "ename": "SyntaxError",
     "evalue": "invalid syntax (<ipython-input-4-337a86132fca>, line 117)",
     "output_type": "error",
     "traceback": [
      "\u001b[1;36m  File \u001b[1;32m\"<ipython-input-4-337a86132fca>\"\u001b[1;36m, line \u001b[1;32m117\u001b[0m\n\u001b[1;33m    user = listener.\u001b[0m\n\u001b[1;37m                    ^\u001b[0m\n\u001b[1;31mSyntaxError\u001b[0m\u001b[1;31m:\u001b[0m invalid syntax\n"
     ]
    }
   ],
   "source": [
    "import numpy as np\n",
    "import random as rd\n",
    "\n",
    "output = np.zeros([4,4])\n",
    "position = np.zeros([4,4],dtype=int)\n",
    "elements = [2,4,8,16]\n",
    "p1 = rd.randint(0,3)\n",
    "p2 = rd.randint(0,3)\n",
    "output[p1][p2] = elements[rd.randint(0,3)]\n",
    "position[p1][p2] = 1\n",
    "\n",
    "def add_element():\n",
    "    status = 0\n",
    "    for i in range(0,4):\n",
    "        for j in range(0,4):\n",
    "            if position[i][j] == 0:\n",
    "                status = 1\n",
    "                break\n",
    "    if status == 1:\n",
    "        while status:\n",
    "            x,y = rd.randint(0,3),rd.randint(0,3)\n",
    "            status = position[x][y]\n",
    "        output[x][y] = elements[rd.randint(0,3)]\n",
    "    else:\n",
    "        print(\"Game Over! No space available...\")\n",
    "  \n",
    "def add_element():\n",
    "    status = 1\n",
    "    \n",
    "    while status:\n",
    "        x,y = rd.randint(0,3),rd.randint(0,3)\n",
    "        status = position[x][y]\n",
    "    output[x][y] = elements[rd.randint(0,3)]\n",
    "    position[x][y] = 1\n",
    "    \n",
    "    \n",
    "def operation_a(score):\n",
    "    for i in range(0,4):\n",
    "        for j in range(1,4):\n",
    "            for k in range(j,0,-1):\n",
    "                if position[i][k] == 1:\n",
    "                    if position[i][k-1] == 0:\n",
    "                        output[i][k-1] = output[i][k]\n",
    "                        output[i][k] = 0\n",
    "                        position[i][k-1] = 1\n",
    "                        position[i][k] = 0\n",
    "                    elif output[i][k-1] == output[i][k]:\n",
    "                        output[i][k-1] = output[i][k-1]*2\n",
    "                        output[i][k] = 0\n",
    "                        position[i][k] = 0\n",
    "                        score = score + output[i][k-1]\n",
    "    add_element()\n",
    "    return score\n",
    "\n",
    "def operation_d(score):\n",
    "    for i in range(0,4):\n",
    "        for j in range(2,-1,-1):\n",
    "            for k in range(j,3):\n",
    "                if position[i][k] == 1:\n",
    "                    if position[i][k+1] == 0:\n",
    "                        output[i][k+1] = output[i][k]\n",
    "                        output[i][k] = 0\n",
    "                        position[i][k+1] = 1\n",
    "                        position[i][k] = 0\n",
    "                    elif output[i][k+1] == output[i][k]:\n",
    "                        output[i][k+1] = output[i][k+1]*2\n",
    "                        output[i][k] = 0\n",
    "                        position[i][k] = 0\n",
    "                        score = score + output[i][k+1]\n",
    "    add_element()\n",
    "    return score\n",
    "\n",
    "def operation_w(score):\n",
    "    for i in range(0,4):\n",
    "        for j in range(1,4):\n",
    "            for k in range(j,0,-1):\n",
    "                if position[k][i] == 1:\n",
    "                    if position[k-1][i] == 0:\n",
    "                        output[k-1][i] = output[k][i]\n",
    "                        output[k][i] = 0\n",
    "                        position[k-1][i] = 1\n",
    "                        position[k][i] = 0\n",
    "                    elif output[k-1][i] == output[k][i]:\n",
    "                        output[k-1][i] = output[k-1][i]*2\n",
    "                        output[k][i] = 0\n",
    "                        position[k][i] = 0\n",
    "                        score = score + output[k-1][i]\n",
    "    add_element()\n",
    "    return score\n",
    "\n",
    "def operation_s(score):\n",
    "    for i in range(0,4):\n",
    "        for j in range(2,-1,-1):\n",
    "            for k in range(j,3):\n",
    "                if position[k][i] == 1:\n",
    "                    if position[k+1][i] == 0:\n",
    "                        output[k+1][i] = output[k][i]\n",
    "                        output[k][i] = 0\n",
    "                        position[k+1][i] = 1\n",
    "                        position[k][i] = 0\n",
    "                    elif output[k+1][i] == output[k][i]:\n",
    "                        output[k+1][i] = output[k+1][i]*2\n",
    "                        output[k][i] = 0\n",
    "                        position[k][i] = 0\n",
    "                        score = score + output[k+1][i]\n",
    "    add_element()\n",
    "    return score\n",
    "\n",
    "print(\"*DOCUMENTATION*\")\n",
    "print(\"Use W,A,S,D to Move and E to exit()\")\n",
    "add_element()\n",
    "score = 0\n",
    "user = 1\n",
    "with Listener(on_press=on_press) as listener:\n",
    "    print(\"Your Score:\",int(score))\n",
    "    print(output)\n",
    "    user = listener.\n",
    "    if user == 'W':\n",
    "        score = operation_w(score)\n",
    "    elif user == 'A':\n",
    "        score = operation_a(score)\n",
    "    elif user == 'S':\n",
    "        score = operation_s(score)\n",
    "    elif user == 'D':\n",
    "        score = operation_d(score)\n",
    "    elif user == 'E':\n",
    "        pass\n",
    "    else:\n",
    "        print(\"Wrong Choice Entered.. Choose again.!\")\n",
    "        \n",
    "    if score >= 2048:\n",
    "        break\n",
    "        \n",
    "        \n",
    "if score>= 2048:\n",
    "    print(\"Congrats! You finished it.\")\n",
    "else:\n",
    "    print(\"ThankYou! Its yours, You can try again!\")\n",
    "    "
   ]
  },
  {
   "cell_type": "code",
   "execution_count": 5,
   "metadata": {},
   "outputs": [
    {
     "ename": "ModuleNotFoundError",
     "evalue": "No module named '_curses'",
     "output_type": "error",
     "traceback": [
      "\u001b[1;31m---------------------------------------------------------------------------\u001b[0m",
      "\u001b[1;31mModuleNotFoundError\u001b[0m                       Traceback (most recent call last)",
      "\u001b[1;32m<ipython-input-5-443ba619ed55>\u001b[0m in \u001b[0;36m<module>\u001b[1;34m()\u001b[0m\n\u001b[1;32m----> 1\u001b[1;33m \u001b[1;32mimport\u001b[0m \u001b[0mcurses\u001b[0m\u001b[1;33m,\u001b[0m \u001b[0mtime\u001b[0m\u001b[1;33m\u001b[0m\u001b[0m\n\u001b[0m\u001b[0;32m      2\u001b[0m \u001b[1;33m\u001b[0m\u001b[0m\n\u001b[0;32m      3\u001b[0m \u001b[1;32mdef\u001b[0m \u001b[0mmain\u001b[0m\u001b[1;33m(\u001b[0m\u001b[0mstdscr\u001b[0m\u001b[1;33m)\u001b[0m\u001b[1;33m:\u001b[0m\u001b[1;33m\u001b[0m\u001b[0m\n\u001b[0;32m      4\u001b[0m     \u001b[1;34m\"\"\"checking for keypress\"\"\"\u001b[0m\u001b[1;33m\u001b[0m\u001b[0m\n\u001b[0;32m      5\u001b[0m     \u001b[0mstdscr\u001b[0m\u001b[1;33m.\u001b[0m\u001b[0mnodelay\u001b[0m\u001b[1;33m(\u001b[0m\u001b[1;32mTrue\u001b[0m\u001b[1;33m)\u001b[0m  \u001b[1;31m# do not wait for input when calling getch\u001b[0m\u001b[1;33m\u001b[0m\u001b[0m\n",
      "\u001b[1;32mC:\\Anaconda3\\lib\\curses\\__init__.py\u001b[0m in \u001b[0;36m<module>\u001b[1;34m()\u001b[0m\n\u001b[0;32m     11\u001b[0m \"\"\"\n\u001b[0;32m     12\u001b[0m \u001b[1;33m\u001b[0m\u001b[0m\n\u001b[1;32m---> 13\u001b[1;33m \u001b[1;32mfrom\u001b[0m \u001b[0m_curses\u001b[0m \u001b[1;32mimport\u001b[0m \u001b[1;33m*\u001b[0m\u001b[1;33m\u001b[0m\u001b[0m\n\u001b[0m\u001b[0;32m     14\u001b[0m \u001b[1;32mimport\u001b[0m \u001b[0mos\u001b[0m \u001b[1;32mas\u001b[0m \u001b[0m_os\u001b[0m\u001b[1;33m\u001b[0m\u001b[0m\n\u001b[0;32m     15\u001b[0m \u001b[1;32mimport\u001b[0m \u001b[0msys\u001b[0m \u001b[1;32mas\u001b[0m \u001b[0m_sys\u001b[0m\u001b[1;33m\u001b[0m\u001b[0m\n",
      "\u001b[1;31mModuleNotFoundError\u001b[0m: No module named '_curses'"
     ]
    }
   ],
   "source": [
    "import curses, time\n",
    "\n",
    "def main(stdscr):\n",
    "    \"\"\"checking for keypress\"\"\"\n",
    "    stdscr.nodelay(True)  # do not wait for input when calling getch\n",
    "    return stdscr.getch()\n",
    "\n",
    "while True:\n",
    "    print(\"key:\", curses.wrapper(main)) # prints: 'key: 97' for 'a' pressed\n",
    "                                        # '-1' on no presses\n",
    "    time.sleep(1)"
   ]
  },
  {
   "cell_type": "code",
   "execution_count": null,
   "metadata": {},
   "outputs": [],
   "source": [
    "import msvcrt as m\n",
    "a = m.getche()\n",
    "a"
   ]
  },
  {
   "cell_type": "code",
   "execution_count": null,
   "metadata": {},
   "outputs": [],
   "source": []
  },
  {
   "cell_type": "code",
   "execution_count": null,
   "metadata": {},
   "outputs": [],
   "source": []
  }
 ],
 "metadata": {
  "kernelspec": {
   "display_name": "Python 3",
   "language": "python",
   "name": "python3"
  },
  "language_info": {
   "codemirror_mode": {
    "name": "ipython",
    "version": 3
   },
   "file_extension": ".py",
   "mimetype": "text/x-python",
   "name": "python",
   "nbconvert_exporter": "python",
   "pygments_lexer": "ipython3",
   "version": "3.6.5"
  }
 },
 "nbformat": 4,
 "nbformat_minor": 2
}
